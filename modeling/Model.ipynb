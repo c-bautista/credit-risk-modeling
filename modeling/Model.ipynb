{
 "cells": [
  {
   "cell_type": "markdown",
   "metadata": {},
   "source": [
    "# Importing the data"
   ]
  },
  {
   "cell_type": "code",
   "execution_count": 1,
   "metadata": {},
   "outputs": [],
   "source": [
    "#Import necessary modules\n",
    "import pandas as pd\n",
    "import matplotlib.pyplot as plt\n",
    "import seaborn as sns\n",
    "import numpy as np"
   ]
  },
  {
   "cell_type": "code",
   "execution_count": 2,
   "metadata": {},
   "outputs": [],
   "source": [
    "df=pd.read_csv('credit_risk_data.csv')"
   ]
  },
  {
   "cell_type": "markdown",
   "metadata": {},
   "source": [
    "# Exploratory data analysis and Preprocessing"
   ]
  },
  {
   "cell_type": "code",
   "execution_count": 3,
   "metadata": {},
   "outputs": [
    {
     "name": "stdout",
     "output_type": "stream",
     "text": [
      "The original dataset have 32581 columns and 12 features\n"
     ]
    }
   ],
   "source": [
    "print('The original dataset have {} columns and {} features'.format(df.shape[0], df.shape[1]))"
   ]
  },
  {
   "cell_type": "code",
   "execution_count": 4,
   "metadata": {},
   "outputs": [
    {
     "data": {
      "text/html": [
       "<div>\n",
       "<style scoped>\n",
       "    .dataframe tbody tr th:only-of-type {\n",
       "        vertical-align: middle;\n",
       "    }\n",
       "\n",
       "    .dataframe tbody tr th {\n",
       "        vertical-align: top;\n",
       "    }\n",
       "\n",
       "    .dataframe thead th {\n",
       "        text-align: right;\n",
       "    }\n",
       "</style>\n",
       "<table border=\"1\" class=\"dataframe\">\n",
       "  <thead>\n",
       "    <tr style=\"text-align: right;\">\n",
       "      <th></th>\n",
       "      <th>person_age</th>\n",
       "      <th>person_income</th>\n",
       "      <th>person_home_ownership</th>\n",
       "      <th>person_emp_length</th>\n",
       "      <th>loan_intent</th>\n",
       "      <th>loan_grade</th>\n",
       "      <th>loan_amnt</th>\n",
       "      <th>loan_int_rate</th>\n",
       "      <th>loan_status</th>\n",
       "      <th>loan_percent_income</th>\n",
       "      <th>cb_person_default_on_file</th>\n",
       "      <th>cb_person_cred_hist_length</th>\n",
       "    </tr>\n",
       "  </thead>\n",
       "  <tbody>\n",
       "    <tr>\n",
       "      <th>0</th>\n",
       "      <td>22</td>\n",
       "      <td>59000</td>\n",
       "      <td>RENT</td>\n",
       "      <td>123.0</td>\n",
       "      <td>PERSONAL</td>\n",
       "      <td>D</td>\n",
       "      <td>35000</td>\n",
       "      <td>16.02</td>\n",
       "      <td>1</td>\n",
       "      <td>0.59</td>\n",
       "      <td>Y</td>\n",
       "      <td>3</td>\n",
       "    </tr>\n",
       "    <tr>\n",
       "      <th>1</th>\n",
       "      <td>21</td>\n",
       "      <td>9600</td>\n",
       "      <td>OWN</td>\n",
       "      <td>5.0</td>\n",
       "      <td>EDUCATION</td>\n",
       "      <td>B</td>\n",
       "      <td>1000</td>\n",
       "      <td>11.14</td>\n",
       "      <td>0</td>\n",
       "      <td>0.10</td>\n",
       "      <td>N</td>\n",
       "      <td>2</td>\n",
       "    </tr>\n",
       "    <tr>\n",
       "      <th>2</th>\n",
       "      <td>25</td>\n",
       "      <td>9600</td>\n",
       "      <td>MORTGAGE</td>\n",
       "      <td>1.0</td>\n",
       "      <td>MEDICAL</td>\n",
       "      <td>C</td>\n",
       "      <td>5500</td>\n",
       "      <td>12.87</td>\n",
       "      <td>1</td>\n",
       "      <td>0.57</td>\n",
       "      <td>N</td>\n",
       "      <td>3</td>\n",
       "    </tr>\n",
       "    <tr>\n",
       "      <th>3</th>\n",
       "      <td>23</td>\n",
       "      <td>65500</td>\n",
       "      <td>RENT</td>\n",
       "      <td>4.0</td>\n",
       "      <td>MEDICAL</td>\n",
       "      <td>C</td>\n",
       "      <td>35000</td>\n",
       "      <td>15.23</td>\n",
       "      <td>1</td>\n",
       "      <td>0.53</td>\n",
       "      <td>N</td>\n",
       "      <td>2</td>\n",
       "    </tr>\n",
       "    <tr>\n",
       "      <th>4</th>\n",
       "      <td>24</td>\n",
       "      <td>54400</td>\n",
       "      <td>RENT</td>\n",
       "      <td>8.0</td>\n",
       "      <td>MEDICAL</td>\n",
       "      <td>C</td>\n",
       "      <td>35000</td>\n",
       "      <td>14.27</td>\n",
       "      <td>1</td>\n",
       "      <td>0.55</td>\n",
       "      <td>Y</td>\n",
       "      <td>4</td>\n",
       "    </tr>\n",
       "  </tbody>\n",
       "</table>\n",
       "</div>"
      ],
      "text/plain": [
       "   person_age  person_income person_home_ownership  person_emp_length  \\\n",
       "0          22          59000                  RENT              123.0   \n",
       "1          21           9600                   OWN                5.0   \n",
       "2          25           9600              MORTGAGE                1.0   \n",
       "3          23          65500                  RENT                4.0   \n",
       "4          24          54400                  RENT                8.0   \n",
       "\n",
       "  loan_intent loan_grade  loan_amnt  loan_int_rate  loan_status  \\\n",
       "0    PERSONAL          D      35000          16.02            1   \n",
       "1   EDUCATION          B       1000          11.14            0   \n",
       "2     MEDICAL          C       5500          12.87            1   \n",
       "3     MEDICAL          C      35000          15.23            1   \n",
       "4     MEDICAL          C      35000          14.27            1   \n",
       "\n",
       "   loan_percent_income cb_person_default_on_file  cb_person_cred_hist_length  \n",
       "0                 0.59                         Y                           3  \n",
       "1                 0.10                         N                           2  \n",
       "2                 0.57                         N                           3  \n",
       "3                 0.53                         N                           2  \n",
       "4                 0.55                         Y                           4  "
      ]
     },
     "execution_count": 4,
     "metadata": {},
     "output_type": "execute_result"
    }
   ],
   "source": [
    "df.head()"
   ]
  },
  {
   "cell_type": "markdown",
   "metadata": {},
   "source": [
    "Our dataframe contains the following attributes:\n",
    "- **person_age**: Person's age.\n",
    "- **person_income**: Person's income.\n",
    "- **person_home_ownership**: Type of person's home.\n",
    "- **person_emp_length**: Number of years the person is employed.\n",
    "- **loan_intent**: Reason for the loan.\n",
    "- **loan_grade**: Quality score of loan application.\n",
    "- **loan_amnt**: Loan amount.\n",
    "- **loan_int_rate**: Loan interest rate.\n",
    "- **loan_status**: Status of loan. \"0\" if is not default and \"1\" if is default.\n",
    "- **loan_percent_income**: Ratio of loan amount over income.\n",
    "- **cb_person_default_on_file**: \"Y\" if the person has default in the past or \"N\" if not.\n",
    "- **cb_person_cred_hist_length**: Amount of time in years the person has credit."
   ]
  },
  {
   "cell_type": "markdown",
   "metadata": {},
   "source": [
    "Let us see each feature's type."
   ]
  },
  {
   "cell_type": "code",
   "execution_count": 5,
   "metadata": {},
   "outputs": [
    {
     "data": {
      "text/plain": [
       "person_age                      int64\n",
       "person_income                   int64\n",
       "person_home_ownership          object\n",
       "person_emp_length             float64\n",
       "loan_intent                    object\n",
       "loan_grade                     object\n",
       "loan_amnt                       int64\n",
       "loan_int_rate                 float64\n",
       "loan_status                     int64\n",
       "loan_percent_income           float64\n",
       "cb_person_default_on_file      object\n",
       "cb_person_cred_hist_length      int64\n",
       "dtype: object"
      ]
     },
     "execution_count": 5,
     "metadata": {},
     "output_type": "execute_result"
    }
   ],
   "source": [
    "df.dtypes"
   ]
  },
  {
   "cell_type": "markdown",
   "metadata": {},
   "source": [
    "The dtypes are already compatible with the information each feature contains. We don't need to change any of them. Let us now analyze the main statistics of the numeric features."
   ]
  },
  {
   "cell_type": "code",
   "execution_count": 6,
   "metadata": {},
   "outputs": [
    {
     "data": {
      "text/html": [
       "<div>\n",
       "<style scoped>\n",
       "    .dataframe tbody tr th:only-of-type {\n",
       "        vertical-align: middle;\n",
       "    }\n",
       "\n",
       "    .dataframe tbody tr th {\n",
       "        vertical-align: top;\n",
       "    }\n",
       "\n",
       "    .dataframe thead th {\n",
       "        text-align: right;\n",
       "    }\n",
       "</style>\n",
       "<table border=\"1\" class=\"dataframe\">\n",
       "  <thead>\n",
       "    <tr style=\"text-align: right;\">\n",
       "      <th></th>\n",
       "      <th>person_age</th>\n",
       "      <th>person_income</th>\n",
       "      <th>person_emp_length</th>\n",
       "      <th>loan_amnt</th>\n",
       "      <th>loan_int_rate</th>\n",
       "      <th>loan_status</th>\n",
       "      <th>loan_percent_income</th>\n",
       "      <th>cb_person_cred_hist_length</th>\n",
       "    </tr>\n",
       "  </thead>\n",
       "  <tbody>\n",
       "    <tr>\n",
       "      <th>count</th>\n",
       "      <td>32581.000000</td>\n",
       "      <td>3.258100e+04</td>\n",
       "      <td>31686.000000</td>\n",
       "      <td>32581.000000</td>\n",
       "      <td>29465.000000</td>\n",
       "      <td>32581.000000</td>\n",
       "      <td>32581.000000</td>\n",
       "      <td>32581.000000</td>\n",
       "    </tr>\n",
       "    <tr>\n",
       "      <th>mean</th>\n",
       "      <td>27.734600</td>\n",
       "      <td>6.607485e+04</td>\n",
       "      <td>4.789686</td>\n",
       "      <td>9589.371106</td>\n",
       "      <td>11.011695</td>\n",
       "      <td>0.218164</td>\n",
       "      <td>0.170203</td>\n",
       "      <td>5.804211</td>\n",
       "    </tr>\n",
       "    <tr>\n",
       "      <th>std</th>\n",
       "      <td>6.348078</td>\n",
       "      <td>6.198312e+04</td>\n",
       "      <td>4.142630</td>\n",
       "      <td>6322.086646</td>\n",
       "      <td>3.240459</td>\n",
       "      <td>0.413006</td>\n",
       "      <td>0.106782</td>\n",
       "      <td>4.055001</td>\n",
       "    </tr>\n",
       "    <tr>\n",
       "      <th>min</th>\n",
       "      <td>20.000000</td>\n",
       "      <td>4.000000e+03</td>\n",
       "      <td>0.000000</td>\n",
       "      <td>500.000000</td>\n",
       "      <td>5.420000</td>\n",
       "      <td>0.000000</td>\n",
       "      <td>0.000000</td>\n",
       "      <td>2.000000</td>\n",
       "    </tr>\n",
       "    <tr>\n",
       "      <th>25%</th>\n",
       "      <td>23.000000</td>\n",
       "      <td>3.850000e+04</td>\n",
       "      <td>2.000000</td>\n",
       "      <td>5000.000000</td>\n",
       "      <td>7.900000</td>\n",
       "      <td>0.000000</td>\n",
       "      <td>0.090000</td>\n",
       "      <td>3.000000</td>\n",
       "    </tr>\n",
       "    <tr>\n",
       "      <th>50%</th>\n",
       "      <td>26.000000</td>\n",
       "      <td>5.500000e+04</td>\n",
       "      <td>4.000000</td>\n",
       "      <td>8000.000000</td>\n",
       "      <td>10.990000</td>\n",
       "      <td>0.000000</td>\n",
       "      <td>0.150000</td>\n",
       "      <td>4.000000</td>\n",
       "    </tr>\n",
       "    <tr>\n",
       "      <th>75%</th>\n",
       "      <td>30.000000</td>\n",
       "      <td>7.920000e+04</td>\n",
       "      <td>7.000000</td>\n",
       "      <td>12200.000000</td>\n",
       "      <td>13.470000</td>\n",
       "      <td>0.000000</td>\n",
       "      <td>0.230000</td>\n",
       "      <td>8.000000</td>\n",
       "    </tr>\n",
       "    <tr>\n",
       "      <th>max</th>\n",
       "      <td>144.000000</td>\n",
       "      <td>6.000000e+06</td>\n",
       "      <td>123.000000</td>\n",
       "      <td>35000.000000</td>\n",
       "      <td>23.220000</td>\n",
       "      <td>1.000000</td>\n",
       "      <td>0.830000</td>\n",
       "      <td>30.000000</td>\n",
       "    </tr>\n",
       "  </tbody>\n",
       "</table>\n",
       "</div>"
      ],
      "text/plain": [
       "         person_age  person_income  person_emp_length     loan_amnt  \\\n",
       "count  32581.000000   3.258100e+04       31686.000000  32581.000000   \n",
       "mean      27.734600   6.607485e+04           4.789686   9589.371106   \n",
       "std        6.348078   6.198312e+04           4.142630   6322.086646   \n",
       "min       20.000000   4.000000e+03           0.000000    500.000000   \n",
       "25%       23.000000   3.850000e+04           2.000000   5000.000000   \n",
       "50%       26.000000   5.500000e+04           4.000000   8000.000000   \n",
       "75%       30.000000   7.920000e+04           7.000000  12200.000000   \n",
       "max      144.000000   6.000000e+06         123.000000  35000.000000   \n",
       "\n",
       "       loan_int_rate   loan_status  loan_percent_income  \\\n",
       "count   29465.000000  32581.000000         32581.000000   \n",
       "mean       11.011695      0.218164             0.170203   \n",
       "std         3.240459      0.413006             0.106782   \n",
       "min         5.420000      0.000000             0.000000   \n",
       "25%         7.900000      0.000000             0.090000   \n",
       "50%        10.990000      0.000000             0.150000   \n",
       "75%        13.470000      0.000000             0.230000   \n",
       "max        23.220000      1.000000             0.830000   \n",
       "\n",
       "       cb_person_cred_hist_length  \n",
       "count                32581.000000  \n",
       "mean                     5.804211  \n",
       "std                      4.055001  \n",
       "min                      2.000000  \n",
       "25%                      3.000000  \n",
       "50%                      4.000000  \n",
       "75%                      8.000000  \n",
       "max                     30.000000  "
      ]
     },
     "execution_count": 6,
     "metadata": {},
     "output_type": "execute_result"
    }
   ],
   "source": [
    "df.describe()"
   ]
  },
  {
   "cell_type": "markdown",
   "metadata": {},
   "source": [
    "The features \"person_age\" and \"person_emp_length\" show inconsistent data, since they show as maximum values 144 and 123, respectively. Those entries are outliers and must be removed.\n",
    "\n",
    "We will consider as outliers any entry with \"person_age\" bigger than 100 or \"person_emp_length\" bigger than 80."
   ]
  },
  {
   "cell_type": "code",
   "execution_count": 7,
   "metadata": {},
   "outputs": [],
   "source": [
    "indices_to_drop=df[(df['person_age']>100) | (df['person_emp_length']>80)].index\n",
    "df.drop(indices_to_drop, inplace=True)"
   ]
  },
  {
   "cell_type": "markdown",
   "metadata": {},
   "source": [
    "We can also remove the column *loan_percent_income* as it is the direct ratio between *person_income* and *loan_amnt*. Keeping it would introduce redundancies in the dataset."
   ]
  },
  {
   "cell_type": "code",
   "execution_count": 8,
   "metadata": {},
   "outputs": [],
   "source": [
    "df.drop('loan_percent_income', axis=1, inplace=True)"
   ]
  },
  {
   "cell_type": "markdown",
   "metadata": {},
   "source": [
    "### Null values"
   ]
  },
  {
   "cell_type": "code",
   "execution_count": 12,
   "metadata": {},
   "outputs": [
    {
     "data": {
      "text/plain": [
       "person_age                       0\n",
       "person_income                    0\n",
       "person_home_ownership            0\n",
       "person_emp_length              895\n",
       "loan_intent                      0\n",
       "loan_grade                       0\n",
       "loan_amnt                        0\n",
       "loan_int_rate                 3115\n",
       "loan_status                      0\n",
       "cb_person_default_on_file        0\n",
       "cb_person_cred_hist_length       0\n",
       "dtype: int64"
      ]
     },
     "execution_count": 12,
     "metadata": {},
     "output_type": "execute_result"
    }
   ],
   "source": [
    "df.isnull().sum()"
   ]
  },
  {
   "cell_type": "markdown",
   "metadata": {},
   "source": [
    "There are two columns with null values: \"person_emp_length\" and \"loan_int_rate\". We will consider reasonable to replace the null values in \"person_emp_length\" by the mean value of the employment length. Since the loan interest rate values are set by the lender, we don't have any way to assess what value must replace the non-null entries. Therefore, it is better to remove the entries with null \"loan_int_rate\"."
   ]
  },
  {
   "cell_type": "code",
   "execution_count": 13,
   "metadata": {},
   "outputs": [],
   "source": [
    "df['person_emp_length'].fillna(df['person_emp_length'].mean(), inplace=True)"
   ]
  },
  {
   "cell_type": "code",
   "execution_count": 14,
   "metadata": {},
   "outputs": [],
   "source": [
    "indices_to_drop=df[df['loan_int_rate'].isnull()].index\n",
    "df.drop(indices_to_drop, inplace=True)"
   ]
  },
  {
   "cell_type": "markdown",
   "metadata": {},
   "source": [
    "To be sure we did not introduce inconsistencies when imputing the *person_emp_length* values, let's plot it against the people ages (*person_age*). For each record we should have that *person_emp_length* is strictly lower than *person_age*. We will check this also for the attribute *cb_person_cred_hist_length*."
   ]
  },
  {
   "cell_type": "code",
   "execution_count": 15,
   "metadata": {},
   "outputs": [
    {
     "data": {
      "image/png": "[encoded data removed]",
      "text/plain": [
       "<Figure size 360x360 with 1 Axes>"
      ]
     },
     "metadata": {
      "needs_background": "light"
     },
     "output_type": "display_data"
    }
   ],
   "source": [
    "plt.figure(figsize=(5,5))\n",
    "plt.scatter(df['person_age'], df['person_emp_length'], alpha=0.3, s=20)\n",
    "plt.plot(range(80), range(80), c='gray', linestyle='--',label='')\n",
    "plt.xticks(fontsize=13)\n",
    "plt.yticks(fontsize=13)\n",
    "plt.xlabel('Person age (years)', fontsize=13)\n",
    "plt.ylabel('Employment time (years)', fontsize=13)\n",
    "plt.title('Employment time vs. Age', fontsize=15)\n",
    "plt.show()"
   ]
  },
  {
   "cell_type": "code",
   "execution_count": 16,
   "metadata": {},
   "outputs": [
    {
     "data": {
      "image/png": "[encoded data removed]",
      "text/plain": [
       "<Figure size 360x360 with 1 Axes>"
      ]
     },
     "metadata": {
      "needs_background": "light"
     },
     "output_type": "display_data"
    }
   ],
   "source": [
    "plt.figure(figsize=(5,5))\n",
    "plt.scatter(df['person_age'], df['cb_person_cred_hist_length'], alpha=0.3, s=20)\n",
    "plt.plot(range(80), range(80), c='gray', linestyle='--',label='')\n",
    "plt.xticks(fontsize=13)\n",
    "plt.yticks(fontsize=13)\n",
    "plt.xlabel('Person age (years)', fontsize=13)\n",
    "plt.ylabel('Credit history length (years)', fontsize=13)\n",
    "plt.title('Employment time \\n vs.\\n Credit history length', fontsize=15)\n",
    "plt.show()"
   ]
  },
  {
   "cell_type": "markdown",
   "metadata": {},
   "source": [
    "In the previous plots we also indicate by a gray dashed line the hypothetical line in which the employment time or the creidt history length are equal to the age of the person. Of course, all points should be below this line as it is impossible that someone has a job or a credit history for more time than its own age. All the records are just fine."
   ]
  },
  {
   "cell_type": "markdown",
   "metadata": {},
   "source": [
    "Now, we shouldn't have any null value"
   ]
  },
  {
   "cell_type": "code",
   "execution_count": 17,
   "metadata": {},
   "outputs": [
    {
     "data": {
      "text/plain": [
       "person_age                    0\n",
       "person_income                 0\n",
       "person_home_ownership         0\n",
       "person_emp_length             0\n",
       "loan_intent                   0\n",
       "loan_grade                    0\n",
       "loan_amnt                     0\n",
       "loan_int_rate                 0\n",
       "loan_status                   0\n",
       "cb_person_default_on_file     0\n",
       "cb_person_cred_hist_length    0\n",
       "dtype: int64"
      ]
     },
     "execution_count": 17,
     "metadata": {},
     "output_type": "execute_result"
    }
   ],
   "source": [
    "df.isnull().sum()"
   ]
  },
  {
   "cell_type": "markdown",
   "metadata": {},
   "source": [
    "Perfect!"
   ]
  },
  {
   "cell_type": "markdown",
   "metadata": {},
   "source": [
    "### Numerical features"
   ]
  },
  {
   "cell_type": "code",
   "execution_count": 268,
   "metadata": {},
   "outputs": [
    {
     "data": {
      "image/png": "[encoded data removed]",
      "text/plain": [
       "<Figure size 360x1800 with 7 Axes>"
      ]
     },
     "metadata": {
      "needs_background": "light"
     },
     "output_type": "display_data"
    }
   ],
   "source": [
    "# List of numerical features\n",
    "num_feat=['person_age','person_income',\\\n",
    "          'person_emp_length', 'loan_amnt', 'loan_int_rate', 'cb_person_cred_hist_length', 'loan_status']\n",
    "\n",
    "# List of titles for the corresponding histograms\n",
    "titles=['Person age distribution', 'Person income distribution', 'Person employment length distribution',\\\n",
    "        'Loan amount distribution', 'Loan interest rate distribution',\\\n",
    "        'Credit history length distribution', 'Default status distribution']\n",
    "\n",
    "# Plot the numerical features distributions\n",
    "fig, axs = plt.subplots(len(num_feat), 1, figsize=(5,25))\n",
    "for i in range(len(num_feat)):\n",
    "    axs[i].hist(df[num_feat[i]], bins=30)\n",
    "    axs[i].tick_params(labelsize=13)\n",
    "    axs[i].set_title(titles[i], fontsize=15)\n",
    "fig.tight_layout(pad=3)"
   ]
  },
  {
   "cell_type": "markdown",
   "metadata": {},
   "source": [
    "Most of the distributions are right-skewed. We could remove some additional outliers in the right tails of some distributions, but let's keep them for a first analysis.\n",
    "\n",
    "In the particular case of the target feature, *loan_status*, we notice that we are dealing with an imbalanced dataset where we have much more records of non-default loans than default loans. Again, for a first analysis we will not apply any resampling technique."
   ]
  },
  {
   "cell_type": "markdown",
   "metadata": {},
   "source": [
    "### Categorical features "
   ]
  },
  {
   "cell_type": "code",
   "execution_count": 269,
   "metadata": {},
   "outputs": [
    {
     "data": {
      "image/png": "[encoded data removed]",
      "text/plain": [
       "<Figure size 720x1080 with 4 Axes>"
      ]
     },
     "metadata": {
      "needs_background": "light"
     },
     "output_type": "display_data"
    }
   ],
   "source": [
    "# List of categorical features\n",
    "cat_feat=['person_home_ownership','loan_intent',\\\n",
    "          'loan_grade', 'cb_person_default_on_file']\n",
    "\n",
    "# List of titles for the corresponding histograms\n",
    "titles=['Person home ownership distribution', 'Loan intent distribution',\\\n",
    "        'Loan grade distribution', 'Past default distribution']\n",
    "\n",
    "# Display a stacked bar plot for every categorical features distributions\n",
    "fig, axs = plt.subplots(len(cat_feat), 1, figsize=(10,15))\n",
    "for i in range(len(cat_feat)):\n",
    "    pivot_df=df.groupby([cat_feat[i], 'loan_status']).size().unstack()\n",
    "    axs[i].barh(pivot_df.index, pivot_df[0], height=0.5, label='Non default')\n",
    "    axs[i].barh(pivot_df.index, pivot_df[1], left=pivot_df[0], height=0.5, label='Default')\n",
    "    axs[i].tick_params(labelsize=13)\n",
    "    axs[i].set_title(titles[i], fontsize=15)\n",
    "    axs[i].legend(fontsize=13)\n",
    "fig.tight_layout(pad=3)"
   ]
  },
  {
   "cell_type": "markdown",
   "metadata": {},
   "source": [
    "In most of the categories we notice the dominance of non-default over default loans, which one would expect due to the imbalance discussed previously. However, there is a clear dominance of default loans over non-default loans for loans with grades D, E and F. We can see that dominance also in loans with grade G but that could be due to a statistical fluctuations. The loan grade, then, might be a good discriminator."
   ]
  },
  {
   "cell_type": "markdown",
   "metadata": {},
   "source": [
    "# Model Selection"
   ]
  },
  {
   "cell_type": "markdown",
   "metadata": {},
   "source": [
    "We want to construct a model that predicts the status of the loan (default or not deafult) from the other attributes. Let's then split the independent features from the target *loan_status*."
   ]
  },
  {
   "cell_type": "code",
   "execution_count": 18,
   "metadata": {},
   "outputs": [],
   "source": [
    "X=df.drop('loan_status', axis=1)\n",
    "y=df['loan_status']"
   ]
  },
  {
   "cell_type": "markdown",
   "metadata": {},
   "source": [
    "We split the whole data into a train and a test set:\n",
    "\n",
    "- The train set will be used to select the best model and perform hyperparameter tuning. To that effect we will mainly use K-fold cross validation, in which this set is split K times into a train subset and a validation set (which are different at each time). The model is trained in the train subset and evaluated on the validation set and the score of the model is given by the average value of all scores. As we expect all of this K splits to behave roughly in the same way we will split additionally the train set into a train subset and a validation set (different from the ones in the K-fold cross validation) and use them only to generate some visualization plots that will help us understand better how the cross validation procedure is working.\n",
    "\n",
    "- The test set won't be used until a final model with custom hyperparameters is selected. It will be used only once to assess the perfomance of the final model."
   ]
  },
  {
   "cell_type": "code",
   "execution_count": 19,
   "metadata": {},
   "outputs": [
    {
     "name": "stdout",
     "output_type": "stream",
     "text": [
      "Train set number of entries: 23567\n",
      "Train sub set number of entries: 17675\n",
      "Validation set number of entries: 5892\n",
      "Test set number of entries: 5892\n"
     ]
    }
   ],
   "source": [
    "from sklearn.model_selection import train_test_split\n",
    "\n",
    "seed=93\n",
    "X_train, X_test, y_train, y_test = train_test_split(X, y, stratify=y, shuffle=True, random_state=seed, test_size=0.2)\n",
    "X_train_sub, X_val, y_train_sub, y_val = train_test_split(X_train, y_train, stratify=y_train, shuffle=True, random_state=seed)\n",
    "\n",
    "print('Train set number of entries: {}'.format(X_train.shape[0]))\n",
    "print('Train sub set number of entries: {}'.format(X_train_sub.shape[0]))\n",
    "print('Validation set number of entries: {}'.format(X_val.shape[0]))\n",
    "print('Test set number of entries: {}'.format(X_test.shape[0]))"
   ]
  },
  {
   "cell_type": "markdown",
   "metadata": {},
   "source": [
    "We focus on two score metrics to discriminate between them:\n",
    "\n",
    "- f2 score as the primary discriminator: It is an $f\\beta$ score with $\\beta=2$. It contains the information of both precision and recall but giving more importance to recall. This is because we rather prefer rejecting a non-default loan than accepting a default one, that is, we want a bigger value for recall. However, at the same time we don't want to lose too much precision. The value $\\beta=2$ is meant to deal with it.\n",
    "\n",
    "- The ROC AUC score as the secondary discriminator: Signals the general performance of the classifier at various thresholds."
   ]
  },
  {
   "cell_type": "markdown",
   "metadata": {},
   "source": [
    "In this first part of model selection we won't perform any hyperparameter tuning as we want to roughly select the most promising models to further explore them later. We will assess the scores of various classifiers (Logistic regression, K-nearest neighbours, Naive Bayes, Decision tree, Random forest, Gradient Boosting, AdaBoost, XGBoost) training them with the imbalanced data (without resampling) first and then with the data after a random oversampling of the minority class. But before, we will define some useful functions."
   ]
  },
  {
   "cell_type": "markdown",
   "metadata": {},
   "source": [
    "Let's define the function *classifier_pipeline* that construct and returns a pipeline from a classifier, following the steps:\n",
    "- One hot encode the categorical features *person_home_ownership*, *loan_intent*, *cb_person_default_on_file* and *loan_grade*\n",
    "\n",
    "- Standardize the features if feature_scaling=True. The default value for feature_scaling is False, which ignores this step.\n",
    "\n",
    "- Applies a resampling technique. The default resampling_technique='None' ignores this step.\n",
    "\n",
    "- Instantiate a classifier."
   ]
  },
  {
   "cell_type": "code",
   "execution_count": 19,
   "metadata": {},
   "outputs": [],
   "source": [
    "# Import necessary modules\n",
    "from sklearn.metrics import roc_curve, roc_auc_score\n",
    "from sklearn.model_selection import KFold, StratifiedKFold\n",
    "from sklearn.compose import ColumnTransformer\n",
    "from sklearn.preprocessing import StandardScaler, OneHotEncoder, OrdinalEncoder\n",
    "from sklearn.model_selection import cross_validate\n",
    "from imblearn.pipeline import make_pipeline\n",
    "\n",
    "seed=93\n",
    "\n",
    "def classifier_pipeline(classifier, feature_scaling=False, resampling_technique='None'):\n",
    "    \"\"\"Build and return pipeline from a classifier with the following steps: one-hot encode the categorical features,\\\n",
    "    perfom feature scaling if feature_scaling=True, resample the data with the value of resampling_technique \\\n",
    "    and instantiate the classifier.\"\"\"\n",
    "    \n",
    "    # Features to one-hot-encode\n",
    "    ohe_feat=['person_home_ownership','loan_intent', 'cb_person_default_on_file', 'loan_grade']\n",
    "    # One hot encode the categorical features\n",
    "    transformer=ColumnTransformer(transformers=[('ohe', OneHotEncoder(), ohe_feat)], remainder='passthrough')\n",
    "    # Standardize features\n",
    "    scaler=StandardScaler()\n",
    "    \n",
    "    if resampling_technique=='None':\n",
    "        if feature_scaling==True:\n",
    "            pipeline=make_pipeline(transformer, scaler, classifier)\n",
    "        elif feature_scaling==False:\n",
    "            pipeline=make_pipeline(transformer, classifier)\n",
    "    else:\n",
    "        rus = resampling_technique\n",
    "        if feature_scaling==True:\n",
    "            pipeline=make_pipeline(transformer, scaler, rus, classifier)\n",
    "        elif feature_scaling==False:\n",
    "            pipeline=make_pipeline(transformer, rus, classifier)\n",
    "            \n",
    "    return pipeline"
   ]
  },
  {
   "cell_type": "markdown",
   "metadata": {},
   "source": [
    "And the *pipeline_cv_scores* function that performs an stratified 5-fold cross validation and compute the two scores mentioned above (F2 and ROC AUC):"
   ]
  },
  {
   "cell_type": "code",
   "execution_count": 20,
   "metadata": {},
   "outputs": [],
   "source": [
    "from sklearn.metrics import fbeta_score, make_scorer\n",
    "f2_score=make_scorer(fbeta_score,beta=2)\n",
    "\n",
    "def pipeline_cv_scores(pipeline, X, y):\n",
    "    \"\"\"Return the F2 and ROC AUC scores of pipeline after a 5-fold stratified cross validation.\"\"\"\n",
    "    \n",
    "    cv=StratifiedKFold(n_splits=5, shuffle=True, random_state=seed)\n",
    "    \n",
    "    scores={}\n",
    "    roc_auc_scores=[]\n",
    "    f2_scores=[]\n",
    "\n",
    "    for ids in cv.split(X, y):\n",
    "        X_train = X.iloc[ids[0], :]\n",
    "        y_train = y.iloc[ids[0]]\n",
    "        X_val = X.iloc[ids[1], :]\n",
    "        y_val = y.iloc[ids[1]]\n",
    "    \n",
    "        pipeline.fit(X_train, y_train)\n",
    "        y_pred_val_proba = pipeline.predict_proba(X_val)[:,1]\n",
    "        y_pred_val = pipeline.predict(X_val)\n",
    "        roc_auc_scores.append(roc_auc_score(y_val, y_pred_val_proba))\n",
    "        f2_scores.append(fbeta_score(y_val, y_pred_val, beta=2))\n",
    "    \n",
    "    scores['test_roc_auc']=np.array(roc_auc_scores)\n",
    "    scores['test_f2']=np.array(f2_scores)\n",
    "    \n",
    "    return scores"
   ]
  },
  {
   "cell_type": "markdown",
   "metadata": {},
   "source": [
    "Next, we import the classifiers we want to assess in this first part of the model selection. At the end we will only keep the best three."
   ]
  },
  {
   "cell_type": "code",
   "execution_count": 21,
   "metadata": {},
   "outputs": [],
   "source": [
    "# Import the necessary classifiers\n",
    "from sklearn.linear_model import LogisticRegression\n",
    "from sklearn.neighbors import KNeighborsClassifier\n",
    "from sklearn.naive_bayes import GaussianNB\n",
    "from sklearn.tree import DecisionTreeClassifier\n",
    "from sklearn.ensemble import AdaBoostClassifier, GradientBoostingClassifier, RandomForestClassifier\n",
    "from xgboost import XGBClassifier\n",
    "\n",
    "\n",
    "# Define list containing the names and the estimators instances\n",
    "classifiers=[['Logistic Regression', LogisticRegression()],\\\n",
    "             ['KNN', KNeighborsClassifier()],\\\n",
    "             ['Naive Bayes', GaussianNB()],\\\n",
    "             ['Decision Tree', DecisionTreeClassifier(random_state=seed)],\\\n",
    "             ['Random Forest', RandomForestClassifier(random_state=seed)],\\\n",
    "             ['Gradient Boosting', GradientBoostingClassifier(random_state=seed)],\\\n",
    "             ['AdaBoost', AdaBoostClassifier(random_state=seed)],\\\n",
    "             ['XGBoost', XGBClassifier(random_state=seed, use_label_encoder=False, eval_metric='logloss')]\n",
    "              ]"
   ]
  },
  {
   "cell_type": "markdown",
   "metadata": {},
   "source": [
    "We will cross validate the classifiers first constructing the pipelines with *classifier_pipeline* function and then performing cross validation and returning their scores with the *pipeline_cv_scores* function."
   ]
  },
  {
   "cell_type": "markdown",
   "metadata": {},
   "source": [
    "**NOTE 1**: We separate the classifiers that need standardization when constructing the pipelines(Logistic Regression, KNN and Naive Bayes) from the ones that don't (all the tree based classifiers).\n",
    "\n",
    "**NOTE 2**: The cross validation is made on the *X_train* and *y_train* sets."
   ]
  },
  {
   "cell_type": "markdown",
   "metadata": {},
   "source": [
    "### No resampling"
   ]
  },
  {
   "cell_type": "markdown",
   "metadata": {},
   "source": [
    "Let's evaluate the scores of the models without any resampling technique."
   ]
  },
  {
   "cell_type": "code",
   "execution_count": 22,
   "metadata": {},
   "outputs": [],
   "source": [
    "# Dictionary to store the name of the classifier and the ir scores after cross validation\n",
    "classifiers_scores={}\n",
    "\n",
    "# Cross validate the classifiers that need standardization\n",
    "for classifier in classifiers[:3]:\n",
    "    pipeline=classifier_pipeline(classifier[1], feature_scaling=True, resampling_technique='None')\n",
    "    classifiers_scores[classifier[0]]=pipeline_cv_scores(pipeline, X_train, y_train)\n",
    "\n",
    "# Cross validate the classifiers that does not need standardization\n",
    "for classifier in classifiers[3:]:\n",
    "    pipeline=classifier_pipeline(classifier[1], feature_scaling=False, resampling_technique='None')\n",
    "    classifiers_scores[classifier[0]]=pipeline_cv_scores(pipeline, X_train, y_train)"
   ]
  },
  {
   "cell_type": "code",
   "execution_count": 23,
   "metadata": {},
   "outputs": [
    {
     "data": {
      "image/png": "[encoded data removed]",
      "text/plain": [
       "<Figure size 720x360 with 1 Axes>"
      ]
     },
     "metadata": {
      "needs_background": "light"
     },
     "output_type": "display_data"
    }
   ],
   "source": [
    "classifiers_names=[]\n",
    "test_roc_auc_means=[]\n",
    "#train_roc_auc_means=[]\n",
    "test_f2_means=[]\n",
    "#train_f2_means=[]\n",
    "\n",
    "for k,v in classifiers_scores.items():\n",
    "    classifiers_names.append(k)\n",
    "    test_roc_auc_means.append(round(v['test_roc_auc'].mean(), 3))\n",
    "#    train_roc_auc_means.append(round(v['train_roc_auc'].mean(),3))\n",
    "    test_f2_means.append(round(v['test_f2'].mean(),3))\n",
    "#    train_f2_means.append(round(v['train_f2'].mean(),3))\n",
    "\n",
    "scores_stat={'Test ROC AUC mean':test_roc_auc_means,\\\n",
    "#             'Train ROC AUC mean':train_roc_auc_means,\\\n",
    "             'Test F2 mean': test_f2_means,\\\n",
    "#             'Train F2 mean': train_f2_means\n",
    "            }\n",
    "\n",
    "scores_df=pd.DataFrame(scores_stat, index=classifiers_names)\n",
    "scores_df_sorted=scores_df.sort_values('Test F2 mean', ascending=True)\n",
    "\n",
    "plt.rcParams[\"figure.figsize\"] = [10,5]\n",
    "ax=scores_df_sorted.plot.barh(y=['Test ROC AUC mean', 'Test F2 mean'], width=0.8)\n",
    "ax.bar_label(ax.containers[0])\n",
    "ax.bar_label(ax.containers[1])\n",
    "plt.yticks(fontsize=14)\n",
    "plt.xticks(fontsize=14)\n",
    "x_axis=ax.axes.get_xaxis()\n",
    "x_axis.set_visible(False)\n",
    "plt.xlim(0,1)\n",
    "plt.legend(fontsize=11, loc='lower right', bbox_to_anchor=(1.3,0))\n",
    "plt.title('ROC AUC and F2 means (No resampling)', fontsize=15)\n",
    "plt.show()"
   ]
  },
  {
   "cell_type": "markdown",
   "metadata": {},
   "source": [
    "### Oversampling"
   ]
  },
  {
   "cell_type": "markdown",
   "metadata": {},
   "source": [
    "We noted previously that we are working with an imbalanced dataset. Specifically: "
   ]
  },
  {
   "cell_type": "code",
   "execution_count": 26,
   "metadata": {},
   "outputs": [
    {
     "name": "stdout",
     "output_type": "stream",
     "text": [
      "Number of entries with 'default' class (minority class): 5170\n",
      "Number of entries with 'non-default' class (majority class): 18397\n"
     ]
    }
   ],
   "source": [
    "print(\"Number of entries with 'default' class (minority class): {}\".format((y_train==1).sum()))\n",
    "print(\"Number of entries with 'non-default' class (majority class): {}\".format((y_train==0).sum()))"
   ]
  },
  {
   "cell_type": "markdown",
   "metadata": {},
   "source": [
    "The entries of the minority class (default) represents a $21\\%$ of the total number of entries. This imbalance may be influencing the way the models are trained by paying more attention to the majority class and relegating the ones of the minority class. For that reason, we should perform some resampling techniques to the data before training it. There are many resampling techniques available, but all of them seek to balance the number of entries of the two classes, some of them by reducing the number of entries of the majority class, others by increasing the number of entries of the minority class or even by combining the two approaches.\n",
    "\n",
    "In this part of the analysis we will evaluate the same classifiers as before, but with a resampling technique. Specifically, we will use the Random Oversampling technique, which consists on randomly selecting examples of the minority class and adding it to the training dataset. We will use the imblearn module, from where we can import many resampling algorithms."
   ]
  },
  {
   "cell_type": "code",
   "execution_count": 24,
   "metadata": {},
   "outputs": [],
   "source": [
    "from imblearn.over_sampling import RandomOverSampler"
   ]
  },
  {
   "cell_type": "code",
   "execution_count": 25,
   "metadata": {},
   "outputs": [],
   "source": [
    "# Collect the scores for the pipelines with Random oversampling\n",
    "classifiers_scores={{}\n",
    "\n",
    "for classifier in classifiers[:3]:\n",
    "    pipeline=classifier_pipeline(classifier[1], feature_scaling=True, resampling_technique=RandomOverSampler(random_state=seed))\n",
    "    classifiers_scores[classifier[0]]=pipeline_cv_scores(pipeline, X_train, y_train)\n",
    "\n",
    "for classifier in classifiers[3:]:\n",
    "    pipeline=classifier_pipeline(classifier[1], feature_scaling=False, resampling_technique=RandomOverSampler(random_state=seed))\n",
    "    classifiers_scores[classifier[0]]=pipeline_cv_scores(pipeline, X_train, y_train)"
   ]
  },
  {
   "cell_type": "code",
   "execution_count": 26,
   "metadata": {},
   "outputs": [
    {
     "data": {
      "image/png": "[encoded data removed]",
      "text/plain": [
       "<Figure size 720x360 with 1 Axes>"
      ]
     },
     "metadata": {
      "needs_background": "light"
     },
     "output_type": "display_data"
    }
   ],
   "source": [
    "classifiers_names=[]\n",
    "test_roc_auc_means=[]\n",
    "#train_roc_auc_means=[]\n",
    "test_f2_means=[]\n",
    "#train_f2_means=[]\n",
    "\n",
    "for k,v in classifiers_scores.items():\n",
    "    classifiers_names.append(k)\n",
    "    test_roc_auc_means.append(round(v['test_roc_auc'].mean(), 3))\n",
    "#    train_roc_auc_means.append(round(v['train_roc_auc'].mean(), 3))\n",
    "    test_f2_means.append(round(v['test_f2'].mean(), 3))\n",
    "#    train_f2_means.append(round(v['train_f2'].mean(), 3))\n",
    "\n",
    "scores_stat={'Test ROC AUC mean':test_roc_auc_means,\\\n",
    "#             'Train ROC AUC mean':train_roc_auc_means,\\\n",
    "             'Test F2 mean': test_f2_means,\\\n",
    "#             'Train F2 mean': train_f2_means\n",
    "            }\n",
    "\n",
    "scores_df=pd.DataFrame(scores_stat, index=classifiers_names)\n",
    "scores_df_sorted=scores_df.sort_values('Test F2 mean', ascending=True)\n",
    "\n",
    "plt.rcParams[\"figure.figsize\"] = [10,5]\n",
    "ax=scores_df_sorted.plot.barh(y=['Test ROC AUC mean', 'Test F2 mean'], width=0.8)\n",
    "ax.bar_label(ax.containers[0])\n",
    "ax.bar_label(ax.containers[1])\n",
    "plt.yticks(fontsize=14)\n",
    "plt.xticks(fontsize=14)\n",
    "x_axis=ax.axes.get_xaxis()\n",
    "x_axis.set_visible(False)\n",
    "plt.xlim(0,1)\n",
    "plt.legend(fontsize=11, loc='lower right', bbox_to_anchor=(1.3,0))\n",
    "plt.title('ROC AUC and F2 means (Random Oversampling)', fontsize=15)\n",
    "plt.show()"
   ]
  },
  {
   "cell_type": "markdown",
   "metadata": {},
   "source": [
    "Applying random oversampling had a small effect in the ROC AUC but improved the recall considerably for most of the estimators. That is, in general, the resampling technique is useful to improve the performance of the classifiers.\n",
    "\n",
    "So far, XGBoost seems to be the most promising model but we did not perform any hyperparameter tuning yet, so, the next two classifiers(gradient boosting and random forest) still have chances to overcome it.\n",
    "\n",
    "We will evaluate those three models with hyperparameter tuning, but before, let's explore more the resampling techniques. Let's just take one estimator(XGBoost) to see how different techniques affect the performance of the model. We will try with the following ones:\n",
    "- Undersampling: Random undersampling, Tomek Links, Near Miss.\n",
    "- Oversampling: Random oversampling, SMOTE\n",
    "- Combined over and under sampling: SMOTE + Tomek links"
   ]
  },
  {
   "cell_type": "markdown",
   "metadata": {},
   "source": [
    "### XGBoost with various resampling techniques"
   ]
  },
  {
   "cell_type": "code",
   "execution_count": 27,
   "metadata": {},
   "outputs": [],
   "source": [
    "from imblearn.under_sampling import RandomUnderSampler, TomekLinks, NearMiss, EditedNearestNeighbours\n",
    "from imblearn.over_sampling import SMOTE, BorderlineSMOTE\n",
    "from imblearn.combine import SMOTETomek, SMOTEENN\n",
    "\n",
    "resampling_techniques=[['Random Undersampling', RandomUnderSampler(random_state=seed)],\\\n",
    "                       ['Tomek Links', TomekLinks(n_jobs=-1)],\\\n",
    "                       ['Near Miss', NearMiss(n_jobs=-1)],\\\n",
    "                       ['Edited Nearest Neighbours', EditedNearestNeighbours()],\\\n",
    "                       ['Random Oversampling', RandomOverSampler(random_state=seed)],\\\n",
    "                       ['SMOTE', SMOTE(random_state=seed)],\\\n",
    "                       ['Borderline SMOTE', BorderlineSMOTE(random_state=seed)],\\\n",
    "                       ['SMOTE + Tomek', SMOTETomek(random_state=seed, n_jobs=-1)],\n",
    "                       ['SMOTE + ENN', SMOTEENN(random_state=seed)]]"
   ]
  },
  {
   "cell_type": "code",
   "execution_count": 28,
   "metadata": {},
   "outputs": [],
   "source": [
    "resampling_tech_scores={}\n",
    "\n",
    "for technique in resampling_techniques:\n",
    "    pipeline=classifier_pipeline(XGBClassifier(random_state=seed, eval_metric='logloss', use_label_encoder=False),\\\n",
    "                                 feature_scaling=False, resampling_technique=technique[1])\n",
    "    resampling_tech_scores[technique[0]]=pipeline_cv_scores(pipeline, X_train, y_train)"
   ]
  },
  {
   "cell_type": "code",
   "execution_count": 29,
   "metadata": {},
   "outputs": [
    {
     "data": {
      "image/png": "[encoded data removed]",
      "text/plain": [
       "<Figure size 720x360 with 1 Axes>"
      ]
     },
     "metadata": {
      "needs_background": "light"
     },
     "output_type": "display_data"
    }
   ],
   "source": [
    "techniques_name=[]\n",
    "test_roc_auc_means=[]\n",
    "test_f2_means=[]\n",
    "\n",
    "for k,v in resampling_tech_scores.items():\n",
    "    techniques_name.append(k)\n",
    "    test_roc_auc_means.append(round(v['test_roc_auc'].mean(), 3))\n",
    "    test_f2_means.append(round(v['test_f2'].mean(),3))\n",
    "\n",
    "scores_stat={'Test ROC AUC mean':test_roc_auc_means,\\\n",
    "             'Test F2 mean':test_f2_means\n",
    "            }\n",
    "\n",
    "scores_df=pd.DataFrame(scores_stat, index=techniques_name)\n",
    "scores_df_sorted=scores_df.sort_values('Test F2 mean', ascending=True)\n",
    "\n",
    "plt.rcParams[\"figure.figsize\"] = [10,5]\n",
    "ax=scores_df_sorted.plot.barh(y=['Test ROC AUC mean', 'Test F2 mean'], width=0.8)\n",
    "ax.bar_label(ax.containers[0])\n",
    "ax.bar_label(ax.containers[1])\n",
    "plt.yticks(fontsize=14)\n",
    "plt.xticks(fontsize=14)\n",
    "x_axis=ax.axes.get_xaxis()\n",
    "x_axis.set_visible(False)\n",
    "plt.xlim(0,1)\n",
    "plt.legend(fontsize=11, loc='lower right', bbox_to_anchor=(1.3,0))\n",
    "plt.title('ROC AUC and F2 means for XGBoost with resampling techniques', fontsize=15)\n",
    "plt.show()"
   ]
  },
  {
   "cell_type": "markdown",
   "metadata": {},
   "source": [
    "We see that the Random Undersampling technique presents the higher F2 score, although it is closely followed by the Edited Nearest Neighbors and the RandomOversampling techniques. Since RandomUndersampling is also the less computationally expensive of these three techniques, we will keep it.\n",
    "\n",
    "Next, we will do the hyperparameter tuning of the three classifiers selected before (Random Forest, Gradient boosting and XGBoost) with the Random Undersampling technqiue applied to the training data."
   ]
  },
  {
   "cell_type": "markdown",
   "metadata": {},
   "source": [
    "### Random Forest hyperparameter tuning"
   ]
  },
  {
   "cell_type": "code",
   "execution_count": 30,
   "metadata": {},
   "outputs": [],
   "source": [
    "from sklearn.model_selection import GridSearchCV"
   ]
  },
  {
   "cell_type": "code",
   "execution_count": 31,
   "metadata": {},
   "outputs": [
    {
     "name": "stdout",
     "output_type": "stream",
     "text": [
      "Model: Random Forest\n",
      "Best parameters: {'randomforestclassifier__max_features': None, 'randomforestclassifier__n_estimators': 175}\n",
      "Best f2 score: 0.7819665360489851\n"
     ]
    }
   ],
   "source": [
    "rf_pipeline=classifier_pipeline(\\\n",
    "                RandomForestClassifier(random_state=seed),\\\n",
    "                feature_scaling=False, resampling_technique=RandomUnderSampler(random_state=seed)\n",
    "                               )\n",
    "\n",
    "parameters={'randomforestclassifier__n_estimators':[100, 125, 150, 175, 200],\\\n",
    "            'randomforestclassifier__max_features':[None, 'sqrt', 'log2'] \n",
    "           }\n",
    "\n",
    "cv=StratifiedKFold(n_splits=5, shuffle=True, random_state=seed)\n",
    "rf_grid_cv=GridSearchCV(rf_pipeline, parameters, cv=cv, scoring=f2_score, return_train_score=True)\n",
    "rf_grid_cv.fit(X_train, y_train)\n",
    "print('Model: Random Forest')\n",
    "print('Best parameters: {}'.format(rf_grid_cv.best_params_))\n",
    "print('Best f2 score: {}'.format(rf_grid_cv.best_score_))"
   ]
  },
  {
   "cell_type": "markdown",
   "metadata": {},
   "source": [
    "With random undersampling and the parameters max_features=None and n_estimators=175, the F2 score of the RandomForest Classifier increases from 0.753 to 0.782."
   ]
  },
  {
   "cell_type": "markdown",
   "metadata": {},
   "source": [
    "### Gradient boosting hyperparameter tuning"
   ]
  },
  {
   "cell_type": "code",
   "execution_count": 32,
   "metadata": {},
   "outputs": [
    {
     "name": "stdout",
     "output_type": "stream",
     "text": [
      "Model: Gradient Boosting\n",
      "Best parameters: {'gradientboostingclassifier__learning_rate': 0.3, 'gradientboostingclassifier__max_depth': 5, 'gradientboostingclassifier__n_estimators': 500}\n",
      "Best f2 score: 0.8119999358692105\n"
     ]
    }
   ],
   "source": [
    "gb_pipeline=classifier_pipeline(\\\n",
    "                GradientBoostingClassifier(random_state=seed),\\\n",
    "                feature_scaling=False, resampling_technique=RandomUnderSampler(random_state=seed)\n",
    "                               )\n",
    "\n",
    "parameters={'gradientboostingclassifier__n_estimators':[ 300, 400, 500, 600],\\\n",
    "            'gradientboostingclassifier__max_depth': [5 , 6, 7],\\\n",
    "            'gradientboostingclassifier__learning_rate': [0.15, 0.2, 0.25, 0.3]}\n",
    "\n",
    "cv=StratifiedKFold(n_splits=5, shuffle=True, random_state=seed)\n",
    "gb_grid_cv=GridSearchCV(gb_pipeline, parameters, cv=cv, scoring=f2_score, return_train_score=True)\n",
    "gb_grid_cv.fit(X_train, y_train)\n",
    "print('Model: Gradient Boosting')\n",
    "print('Best parameters: {}'.format(gb_grid_cv.best_params_))\n",
    "print('Best f2 score: {}'.format(gb_grid_cv.best_score_))"
   ]
  },
  {
   "cell_type": "markdown",
   "metadata": {},
   "source": [
    "With random undersampling and the parameters: learning_rate=0.3, max_depth=5 and n_estimators=500, the F2 score of the RandomForest Classifier increases from 0.773 to 0.812."
   ]
  },
  {
   "cell_type": "markdown",
   "metadata": {},
   "source": [
    "### XGBoost hyperparameter tuning"
   ]
  },
  {
   "cell_type": "code",
   "execution_count": 33,
   "metadata": {},
   "outputs": [
    {
     "name": "stdout",
     "output_type": "stream",
     "text": [
      "Model: XGBoost\n",
      "Best parameters: {'xgbclassifier__learning_rate': 0.2, 'xgbclassifier__n_estimators': 600}\n",
      "Best f2 score: 0.8088531190476418\n"
     ]
    }
   ],
   "source": [
    "parameters={'xgbclassifier__n_estimators':[500, 600, 700],\\\n",
    "            'xgbclassifier__learning_rate': [0.15, 0.2, 0.25]}\n",
    "\n",
    "xgb_pipeline=classifier_pipeline(XGBClassifier(random_state=seed, use_label_encoder=False, eval_metric='logloss'),\\\n",
    "                             feature_scaling=False, resampling_technique=RandomUnderSampler(random_state=seed))\n",
    "\n",
    "cv=StratifiedKFold(n_splits=5, shuffle=True, random_state=seed)\n",
    "xgb_grid_cv=GridSearchCV(xgb_pipeline, parameters, cv=cv, scoring=f2_score, refit=True)\n",
    "xgb_grid_cv.fit(X_train, y_train)\n",
    "xgb_classifier=xgb_grid_cv.best_estimator_\n",
    "print('Model: XGBoost')\n",
    "print('Best parameters: {}'.format(xgb_grid_cv.best_params_))\n",
    "print('Best f2 score: {}'.format(xgb_grid_cv.best_score_))"
   ]
  },
  {
   "cell_type": "markdown",
   "metadata": {},
   "source": [
    "With random undersampling and the parameters: learning_rate=0.2 and n_estimators=600, the F2 score of the RandomForest Classifier increases from 0.798 to 0.809."
   ]
  },
  {
   "cell_type": "markdown",
   "metadata": {},
   "source": [
    "#### Comparing scores"
   ]
  },
  {
   "cell_type": "code",
   "execution_count": 34,
   "metadata": {},
   "outputs": [
    {
     "name": "stdout",
     "output_type": "stream",
     "text": [
      "Best F2 scores\n",
      "---------------------\n",
      "Random Forest: 0.782 +- 0.011\n",
      "Gradient Boosting: 0.812 +- 0.019\n",
      "XGBoost: 0.809 +- 0.016\n"
     ]
    }
   ],
   "source": [
    "rf_f2_mean = rf_grid_cv.best_score_\n",
    "rf_f2_std = rf_grid_cv.cv_results_['std_test_score'][rf_grid_cv.best_index_]\n",
    "gb_f2_mean = gb_grid_cv.best_score_\n",
    "gb_f2_std = gb_grid_cv.cv_results_['std_test_score'][gb_grid_cv.best_index_]\n",
    "xgb_f2_mean = xgb_grid_cv.best_score_\n",
    "xgb_f2_std = xgb_grid_cv.cv_results_['std_test_score'][xgb_grid_cv.best_index_]\n",
    "\n",
    "print('Best F2 scores')\n",
    "print('---------------------')\n",
    "print('Random Forest: {} +- {}'.format(round(rf_f2_mean, 3), round(2*rf_f2_std, 3)))\n",
    "print('Gradient Boosting: {} +- {}'.format(round(gb_f2_mean, 3), round(2*gb_f2_std, 3)))\n",
    "print('XGBoost: {} +- {}'.format(round(xgb_f2_mean, 3), round(2*xgb_f2_std, 3)))"
   ]
  },
  {
   "cell_type": "markdown",
   "metadata": {},
   "source": [
    "After tuning the hyperparameters to maximize the F2 score of the three most promising models, we find that the Gradient Boosting classifier is the one with the highest mean F2 score (0.812), very closely folllowed by the XGBoost classifier (0.809). However, their 2 $\\sigma$ confidence interval overlap. There is a high probability that the difference between their means are due to randomness. Let's estimate additionally the ROC AUC of these models before taking a decision."
   ]
  },
  {
   "cell_type": "code",
   "execution_count": 35,
   "metadata": {},
   "outputs": [],
   "source": [
    "# Cross validate the Random Forest model with the best hyperparameters\n",
    "rf_tuned_model=rf_grid_cv.best_estimator_\n",
    "cv=StratifiedKFold(n_splits=5, shuffle=True, random_state=seed)\n",
    "rf_scores=cross_validate(rf_tuned_model, X_train, y_train, scoring={'roc_auc':'roc_auc'}, cv=cv)\n",
    "\n",
    "rf_roc_auc_mean=rf_scores['test_roc_auc'].mean()\n",
    "rf_roc_auc_std=rf_scores['test_roc_auc'].std()\n",
    "\n",
    "\n",
    "# Cross validate the Gradient Boosting model with the best hyperparameters\n",
    "gb_tuned_model=gb_grid_cv.best_estimator_\n",
    "cv=StratifiedKFold(n_splits=5, shuffle=True, random_state=seed)\n",
    "gb_scores=cross_validate(gb_tuned_model, X_train, y_train, scoring={'roc_auc':'roc_auc'}, cv=cv)\n",
    "\n",
    "gb_roc_auc_mean=gb_scores['test_roc_auc'].mean()\n",
    "gb_roc_auc_std=gb_scores['test_roc_auc'].std()\n",
    "\n",
    "\n",
    "# Cross validate the XGBoost model with the best hyperparameters\n",
    "xgb_tuned_model=xgb_grid_cv.best_estimator_\n",
    "cv=StratifiedKFold(n_splits=5, shuffle=True, random_state=seed)\n",
    "xgb_scores=cross_validate(xgb_tuned_model, X_train, y_train, scoring={'roc_auc':'roc_auc'}, cv=cv)\n",
    "\n",
    "xgb_roc_auc_mean=xgb_scores['test_roc_auc'].mean()\n",
    "xgb_roc_auc_std=xgb_scores['test_roc_auc'].std()"
   ]
  },
  {
   "cell_type": "code",
   "execution_count": 36,
   "metadata": {},
   "outputs": [
    {
     "name": "stdout",
     "output_type": "stream",
     "text": [
      "ROC AUC\n",
      "---------------------\n",
      "Random Forest: 0.93 +- 0.01\n",
      "Gradient Boosting: 0.941 +- 0.011\n",
      "XGBoost: 0.943 +- 0.01\n"
     ]
    }
   ],
   "source": [
    "print('ROC AUC')\n",
    "print('---------------------')\n",
    "print('Random Forest: {} +- {}'.format(round(rf_roc_auc_mean, 3), round(2*rf_roc_auc_std, 3)))\n",
    "print('Gradient Boosting: {} +- {}'.format(round(gb_roc_auc_mean, 3), round(2*gb_roc_auc_std, 3)))\n",
    "print('XGBoost: {} +- {}'.format(round(xgb_roc_auc_mean, 3), round(2*xgb_roc_auc_std, 3)))"
   ]
  },
  {
   "cell_type": "markdown",
   "metadata": {},
   "source": [
    "We see that the ROC AUC scores of the Gradient Boosting and the XGBoost models are also very similar. We decide to choose the XGBoost model as our best model as it is less computationally expensive."
   ]
  },
  {
   "cell_type": "markdown",
   "metadata": {},
   "source": [
    "Now, there is only one final variable to tune: the threshold that discriminates between classes (default or non default). To see why this is important let's plot the distribution of predicted probabilities by training the chosen model in the train subset (X_train_sub and y_train_sub) and evaluating it in the validation set(X_val, y_val)."
   ]
  },
  {
   "cell_type": "code",
   "execution_count": 57,
   "metadata": {},
   "outputs": [],
   "source": [
    "X_train_sub, X_val, y_train_sub, y_val = train_test_split(X_train, y_train, shuffle=True, stratify=y_train)"
   ]
  },
  {
   "cell_type": "code",
   "execution_count": 58,
   "metadata": {},
   "outputs": [
    {
     "data": {
      "image/png": "[encoded data removed]",
      "text/plain": [
       "<Figure size 720x360 with 1 Axes>"
      ]
     },
     "metadata": {
      "needs_background": "light"
     },
     "output_type": "display_data"
    }
   ],
   "source": [
    "# Instantiate the chosen model and train it with X_train_sub and y_train_sub\n",
    "xgb_tuned_model=xgb_grid_cv.best_estimator_\n",
    "xgb_tuned_model.fit(X_train_sub, y_train_sub)\n",
    "\n",
    "# Predict probabilities on the validation set\n",
    "y_pred_proba_val=xgb_tuned_model.predict_proba(X_val)[:,1]\n",
    "\n",
    "# Plot the distribution of probabilities\n",
    "plt.hist(y_pred_proba_val, bins=30)\n",
    "plt.xlabel('Predicted probability', fontsize=14)\n",
    "plt.xticks(fontsize=14)\n",
    "plt.yticks(fontsize=14)\n",
    "plt.title('Predicted probabilities distribution', fontsize=15)\n",
    "plt.show()"
   ]
  },
  {
   "cell_type": "markdown",
   "metadata": {},
   "source": [
    "We see that the model is pretty sure about its predictions for many loans. However, we must still define a threshold for the other loans to be classified as deafult or not. So far we have been using the default threshold value 0.5, but, since we have the freedom to fix it to other value we can take advantage of it to maximize profits."
   ]
  },
  {
   "cell_type": "markdown",
   "metadata": {},
   "source": [
    "To understand how the selection of a threshold affects the outcome of our portfolio, let's build a atrategy table that contains the following variables:\n",
    "\n",
    "- **Acceptance rate**: The ratio of the number of accepted loans over the total number of required loans.\n",
    "- **Threshold**: The value of the predicted probability of default that discriminate between default and non-default loans.\n",
    "- **Bad rate**: The ratio of the number of accepted default loans over the total number of accepted loans\n",
    "- **Accepted loans**: The number of accepted loans.\n",
    "- **Average loan amount**: The average value of all the required loan values.\n",
    "- **Profit**: The profit of the portfolio evaluated as\n",
    "$$\\sum \\left(\\text{Nondefault loan amount}\\times \\text{Interest rate} - \\text{Default loan amount}\\right)$$\n",
    "Here we are assuming that the  Loss Given Default (LGD) is 1.0. That is, if a loan defaults we lose the $100\\%$ of the loan amount.\n",
    "- **Profit percentage**: The ratio of the profit over the total amount of required loans (in percentage).\n",
    "\n",
    "The profit percentage is a good indicator of the performance of the model as it is independent of the total amount of loans required. We will choose the threshold that maximizes this indicator."
   ]
  },
  {
   "cell_type": "code",
   "execution_count": 287,
   "metadata": {},
   "outputs": [],
   "source": [
    "def strategy_table(X, y_true, y_pred_proba=None, acceptance_rates=np.arange(0.3,1.05,0.05)):\n",
    "    \"\"\"Build and return the strategy table.\"\"\"\n",
    "    X_y=X.assign(loan_status=y_true)\n",
    "    thresholds=[]\n",
    "    bad_rates=[]\n",
    "    estimated_values=[]\n",
    "    n_accepted_loans=[]\n",
    "    avg_loan_amnt=[]\n",
    "    profits=[]\n",
    "   # profit_totloan_rates=[]\n",
    "\n",
    "    for accept_rate in acceptance_rates:\n",
    "        threshold=np.quantile(y_pred_proba, accept_rate)\n",
    "        y_predicted=np.where(y_pred_proba>threshold, 1, 0)\n",
    "        accepted_indices=(y_predicted==0)\n",
    "        X_y_accepted=X_y[accepted_indices]\n",
    "        X_y_accep_default=X_y_accepted[X_y_accepted['loan_status']==1]\n",
    "        X_y_accep_nondefault=X_y_accepted[X_y_accepted['loan_status']==0]\n",
    "        bad_rate=sum(y_true[accepted_indices])/len(accepted_indices)\n",
    "        \n",
    "        profit = sum(X_y_accep_nondefault['loan_amnt']*X_y_accep_nondefault['loan_int_rate']/100)\\\n",
    "                - sum(X_y_accep_default['loan_amnt'])\n",
    "        \n",
    "        thresholds.append(threshold)\n",
    "        bad_rates.append(bad_rate)\n",
    "        profits.append(profit)\n",
    "        n_accepted_loans.append(X_y_accepted.shape[0])\n",
    "        avg_loan_amnt.append(X_y['loan_amnt'].mean())\n",
    "        \n",
    "    strat_tab=pd.DataFrame(zip(acceptance_rates, thresholds, bad_rates, n_accepted_loans,\\\n",
    "                               avg_loan_amnt, profits),\\\n",
    "             columns=['Acceptance rate', 'Threshold', 'Bad rate', 'Accepted loans', 'Average loan amount', 'Profit']).sort_values('Acceptance rate', ascending=False).reset_index()\n",
    "    strat_tab['Profit percentage'] = strat_tab['Profit']*100/(X_y.shape[0]*strat_tab['Average loan amount'])\n",
    "    return strat_tab.drop('index',axis=1)"
   ]
  },
  {
   "cell_type": "code",
   "execution_count": 288,
   "metadata": {},
   "outputs": [],
   "source": [
    "strat_df=strategy_table(X_val, y_val, y_pred_proba=y_pred_proba_val)"
   ]
  },
  {
   "cell_type": "code",
   "execution_count": 289,
   "metadata": {},
   "outputs": [
    {
     "data": {
      "text/html": [
       "<div>\n",
       "<style scoped>\n",
       "    .dataframe tbody tr th:only-of-type {\n",
       "        vertical-align: middle;\n",
       "    }\n",
       "\n",
       "    .dataframe tbody tr th {\n",
       "        vertical-align: top;\n",
       "    }\n",
       "\n",
       "    .dataframe thead th {\n",
       "        text-align: right;\n",
       "    }\n",
       "</style>\n",
       "<table border=\"1\" class=\"dataframe\">\n",
       "  <thead>\n",
       "    <tr style=\"text-align: right;\">\n",
       "      <th></th>\n",
       "      <th>Acceptance rate</th>\n",
       "      <th>Threshold</th>\n",
       "      <th>Bad rate</th>\n",
       "      <th>Accepted loans</th>\n",
       "      <th>Average loan amount</th>\n",
       "      <th>Profit</th>\n",
       "      <th>Profit percentage</th>\n",
       "    </tr>\n",
       "  </thead>\n",
       "  <tbody>\n",
       "    <tr>\n",
       "      <th>0</th>\n",
       "      <td>1.00</td>\n",
       "      <td>1.000000</td>\n",
       "      <td>0.219450</td>\n",
       "      <td>5892</td>\n",
       "      <td>9634.190428</td>\n",
       "      <td>-9.698594e+06</td>\n",
       "      <td>-17.085622</td>\n",
       "    </tr>\n",
       "    <tr>\n",
       "      <th>1</th>\n",
       "      <td>0.95</td>\n",
       "      <td>0.999906</td>\n",
       "      <td>0.169382</td>\n",
       "      <td>5597</td>\n",
       "      <td>9634.190428</td>\n",
       "      <td>-5.919744e+06</td>\n",
       "      <td>-10.428574</td>\n",
       "    </tr>\n",
       "    <tr>\n",
       "      <th>2</th>\n",
       "      <td>0.90</td>\n",
       "      <td>0.998429</td>\n",
       "      <td>0.121012</td>\n",
       "      <td>5302</td>\n",
       "      <td>9634.190428</td>\n",
       "      <td>-2.708254e+06</td>\n",
       "      <td>-4.771022</td>\n",
       "    </tr>\n",
       "    <tr>\n",
       "      <th>3</th>\n",
       "      <td>0.85</td>\n",
       "      <td>0.978426</td>\n",
       "      <td>0.076714</td>\n",
       "      <td>5008</td>\n",
       "      <td>9634.190428</td>\n",
       "      <td>1.404467e+05</td>\n",
       "      <td>0.247419</td>\n",
       "    </tr>\n",
       "    <tr>\n",
       "      <th>4</th>\n",
       "      <td>0.80</td>\n",
       "      <td>0.836803</td>\n",
       "      <td>0.052614</td>\n",
       "      <td>4713</td>\n",
       "      <td>9634.190428</td>\n",
       "      <td>1.454426e+06</td>\n",
       "      <td>2.562204</td>\n",
       "    </tr>\n",
       "    <tr>\n",
       "      <th>5</th>\n",
       "      <td>0.75</td>\n",
       "      <td>0.599097</td>\n",
       "      <td>0.039545</td>\n",
       "      <td>4419</td>\n",
       "      <td>9634.190428</td>\n",
       "      <td>1.926029e+06</td>\n",
       "      <td>3.393008</td>\n",
       "    </tr>\n",
       "    <tr>\n",
       "      <th>6</th>\n",
       "      <td>0.70</td>\n",
       "      <td>0.402576</td>\n",
       "      <td>0.033096</td>\n",
       "      <td>4124</td>\n",
       "      <td>9634.190428</td>\n",
       "      <td>1.960832e+06</td>\n",
       "      <td>3.454319</td>\n",
       "    </tr>\n",
       "    <tr>\n",
       "      <th>7</th>\n",
       "      <td>0.65</td>\n",
       "      <td>0.245523</td>\n",
       "      <td>0.025798</td>\n",
       "      <td>3830</td>\n",
       "      <td>9634.190428</td>\n",
       "      <td>2.050263e+06</td>\n",
       "      <td>3.611866</td>\n",
       "    </tr>\n",
       "    <tr>\n",
       "      <th>8</th>\n",
       "      <td>0.60</td>\n",
       "      <td>0.151736</td>\n",
       "      <td>0.018500</td>\n",
       "      <td>3535</td>\n",
       "      <td>9634.190428</td>\n",
       "      <td>2.115171e+06</td>\n",
       "      <td>3.726212</td>\n",
       "    </tr>\n",
       "    <tr>\n",
       "      <th>9</th>\n",
       "      <td>0.55</td>\n",
       "      <td>0.092598</td>\n",
       "      <td>0.013408</td>\n",
       "      <td>3241</td>\n",
       "      <td>9634.190428</td>\n",
       "      <td>2.116558e+06</td>\n",
       "      <td>3.728655</td>\n",
       "    </tr>\n",
       "    <tr>\n",
       "      <th>10</th>\n",
       "      <td>0.50</td>\n",
       "      <td>0.059749</td>\n",
       "      <td>0.011371</td>\n",
       "      <td>2946</td>\n",
       "      <td>9634.190428</td>\n",
       "      <td>1.937077e+06</td>\n",
       "      <td>3.412471</td>\n",
       "    </tr>\n",
       "    <tr>\n",
       "      <th>11</th>\n",
       "      <td>0.45</td>\n",
       "      <td>0.038351</td>\n",
       "      <td>0.008826</td>\n",
       "      <td>2651</td>\n",
       "      <td>9634.190428</td>\n",
       "      <td>1.806778e+06</td>\n",
       "      <td>3.182928</td>\n",
       "    </tr>\n",
       "    <tr>\n",
       "      <th>12</th>\n",
       "      <td>0.40</td>\n",
       "      <td>0.024078</td>\n",
       "      <td>0.007637</td>\n",
       "      <td>2357</td>\n",
       "      <td>9634.190428</td>\n",
       "      <td>1.587571e+06</td>\n",
       "      <td>2.796761</td>\n",
       "    </tr>\n",
       "    <tr>\n",
       "      <th>13</th>\n",
       "      <td>0.35</td>\n",
       "      <td>0.015061</td>\n",
       "      <td>0.005431</td>\n",
       "      <td>2062</td>\n",
       "      <td>9634.190428</td>\n",
       "      <td>1.415311e+06</td>\n",
       "      <td>2.493296</td>\n",
       "    </tr>\n",
       "    <tr>\n",
       "      <th>14</th>\n",
       "      <td>0.30</td>\n",
       "      <td>0.008664</td>\n",
       "      <td>0.003225</td>\n",
       "      <td>1768</td>\n",
       "      <td>9634.190428</td>\n",
       "      <td>1.318246e+06</td>\n",
       "      <td>2.322300</td>\n",
       "    </tr>\n",
       "  </tbody>\n",
       "</table>\n",
       "</div>"
      ],
      "text/plain": [
       "    Acceptance rate  Threshold  Bad rate  Accepted loans  Average loan amount  \\\n",
       "0              1.00   1.000000  0.219450            5892          9634.190428   \n",
       "1              0.95   0.999906  0.169382            5597          9634.190428   \n",
       "2              0.90   0.998429  0.121012            5302          9634.190428   \n",
       "3              0.85   0.978426  0.076714            5008          9634.190428   \n",
       "4              0.80   0.836803  0.052614            4713          9634.190428   \n",
       "5              0.75   0.599097  0.039545            4419          9634.190428   \n",
       "6              0.70   0.402576  0.033096            4124          9634.190428   \n",
       "7              0.65   0.245523  0.025798            3830          9634.190428   \n",
       "8              0.60   0.151736  0.018500            3535          9634.190428   \n",
       "9              0.55   0.092598  0.013408            3241          9634.190428   \n",
       "10             0.50   0.059749  0.011371            2946          9634.190428   \n",
       "11             0.45   0.038351  0.008826            2651          9634.190428   \n",
       "12             0.40   0.024078  0.007637            2357          9634.190428   \n",
       "13             0.35   0.015061  0.005431            2062          9634.190428   \n",
       "14             0.30   0.008664  0.003225            1768          9634.190428   \n",
       "\n",
       "          Profit  Profit percentage  \n",
       "0  -9.698594e+06         -17.085622  \n",
       "1  -5.919744e+06         -10.428574  \n",
       "2  -2.708254e+06          -4.771022  \n",
       "3   1.404467e+05           0.247419  \n",
       "4   1.454426e+06           2.562204  \n",
       "5   1.926029e+06           3.393008  \n",
       "6   1.960832e+06           3.454319  \n",
       "7   2.050263e+06           3.611866  \n",
       "8   2.115171e+06           3.726212  \n",
       "9   2.116558e+06           3.728655  \n",
       "10  1.937077e+06           3.412471  \n",
       "11  1.806778e+06           3.182928  \n",
       "12  1.587571e+06           2.796761  \n",
       "13  1.415311e+06           2.493296  \n",
       "14  1.318246e+06           2.322300  "
      ]
     },
     "execution_count": 289,
     "metadata": {},
     "output_type": "execute_result"
    }
   ],
   "source": [
    "strat_df"
   ]
  },
  {
   "cell_type": "markdown",
   "metadata": {},
   "source": [
    "The strategy table shows that there is an optimum value for the threshold in order to maximize the profit percentage. In this case this value is around $0.09$ corresponding to a profit percentage of $3.73\\%$ and an acceptance rate of $55\\%$.\n",
    "\n",
    "To determine this optimal threshold more accurately, we will perform a 10-fold cross validation on the training dataset and select the best threshold for each fold. "
   ]
  },
  {
   "cell_type": "code",
   "execution_count": 290,
   "metadata": {},
   "outputs": [],
   "source": [
    "def threshold_cv(model, X, y):\n",
    "    \"\"\"Performs cross validation and returns the optimal values of profit percentage, threshold,\\\n",
    "    acceptance rate and bad rates.\"\"\"\n",
    "    cv=StratifiedKFold(n_splits=10, shuffle=True, random_state=seed)\n",
    "    \n",
    "    best_vars={}\n",
    "    \n",
    "    profit_percs=[]\n",
    "    thresholds=[]\n",
    "    bad_rates=[]\n",
    "    acceptance_rates=[]\n",
    "    \n",
    "    for ids in cv.split(X, y):\n",
    "        X_train = X.iloc[ids[0], :]\n",
    "        y_train = y.iloc[ids[0]]\n",
    "        X_val = X.iloc[ids[1], :]\n",
    "        y_val = y.iloc[ids[1]]\n",
    "    \n",
    "        model.fit(X_train, y_train)\n",
    "        y_pred_val_proba = model.predict_proba(X_val)[:,1]\n",
    "    \n",
    "        strat_df = strategy_table(X_val, y_val, y_pred_proba=y_pred_val_proba, acceptance_rates=np.arange(0.3,1,0.01))\n",
    "            \n",
    "        idx_max_profit=strat_df['Profit percentage'].idxmax()\n",
    "        best_pr_perc, best_thresh, best_bad_rate, best_accept_rate  = \\\n",
    "                        strat_df.iloc[idx_max_profit,:][['Profit percentage', 'Threshold', 'Bad rate', 'Acceptance rate']]\n",
    "\n",
    "        profit_percs.append(best_pr_perc)\n",
    "        thresholds.append(best_thresh)\n",
    "        bad_rates.append(best_bad_rate)\n",
    "        acceptance_rates.append(best_accept_rate)\n",
    "    \n",
    "    best_vars={'best_profit_percentages': np.array(profit_percs),\\\n",
    "               'best_bad_rates': np.array(bad_rates),\\\n",
    "               'best_acceptance_rates': np.array(acceptance_rates),\\\n",
    "               'best_thresholds': np.array(thresholds)\n",
    "              }\n",
    "    \n",
    "    return best_vars"
   ]
  },
  {
   "cell_type": "code",
   "execution_count": 291,
   "metadata": {},
   "outputs": [],
   "source": [
    "thresh_cv_results=threshold_cv(xgb_tuned_model, X_train, y_train)"
   ]
  },
  {
   "cell_type": "markdown",
   "metadata": {},
   "source": [
    "The values corresponding to the best profit percentages of each fold on the cross validation procedure are:"
   ]
  },
  {
   "cell_type": "code",
   "execution_count": 101,
   "metadata": {},
   "outputs": [
    {
     "data": {
      "text/plain": [
       "{'best_profit_percentages': array([4.19735413, 4.5676899 , 4.19314427, 3.84192559, 3.76915714,\n",
       "        4.44539206, 4.4940145 , 4.27396283, 3.84637155, 4.50213779]),\n",
       " 'best_bad_rates': array([0.0199406 , 0.01824353, 0.02545609, 0.01654646, 0.02248621,\n",
       "        0.01103097, 0.02460755, 0.01952462, 0.01825127, 0.02504244]),\n",
       " 'best_acceptance_rates': array([0.64, 0.65, 0.64, 0.58, 0.62, 0.57, 0.68, 0.66, 0.61, 0.71]),\n",
       " 'best_thresholds': array([0.19568927, 0.25669895, 0.23581629, 0.14673565, 0.15925737,\n",
       "        0.11800937, 0.31891414, 0.29013641, 0.18007978, 0.43407217])}"
      ]
     },
     "execution_count": 101,
     "metadata": {},
     "output_type": "execute_result"
    }
   ],
   "source": [
    "thresh_cv_results"
   ]
  },
  {
   "cell_type": "markdown",
   "metadata": {},
   "source": [
    "Next, we compute the mean and the standard deviation of the indicators and display their confidence interval with 2 standard deviations."
   ]
  },
  {
   "cell_type": "code",
   "execution_count": 121,
   "metadata": {},
   "outputs": [
    {
     "name": "stdout",
     "output_type": "stream",
     "text": [
      "Cross validation results\n",
      "----------------------------------------------------\n",
      "Best profit percentage: 4.213 +- 0.571\n",
      "Best bad rate: 0.020 +- 0.009\n",
      "Best acceptance rate: 0.636 +- 0.082\n",
      "Best threshold: 0.234 +- 0.181\n"
     ]
    }
   ],
   "source": [
    "best_profit_perc_mean = thresh_cv_results['best_profit_percentages'].mean()\n",
    "best_profit_perc_std = thresh_cv_results['best_profit_percentages'].std()\n",
    "best_bad_rate_mean = thresh_cv_results['best_bad_rates'].mean()\n",
    "best_bad_rate_std = thresh_cv_results['best_bad_rates'].std()\n",
    "best_acceptance_rates_mean = thresh_cv_results['best_acceptance_rates'].mean()\n",
    "best_acceptance_rates_std = thresh_cv_results['best_acceptance_rates'].std()\n",
    "best_thresholds_mean = thresh_cv_results['best_thresholds'].mean()\n",
    "best_thresholds_std = thresh_cv_results['best_thresholds'].std()\n",
    "\n",
    "print('Cross validation results')\n",
    "print('----------------------------------------------------')\n",
    "print('Best profit percentage: {:.3f} +- {:.3f}'.format(best_profit_perc_mean, 2*best_profit_perc_std))\n",
    "print('Best bad rate: {:.3f} +- {:.3f}'.format(best_bad_rate_mean, 2*best_bad_rate_std))\n",
    "print('Best acceptance rate: {:.3f} +- {:.3f}'.format(best_acceptance_rates_mean, 2*best_acceptance_rates_std))\n",
    "print('Best threshold: {:.3f} +- {:.3f}'.format(best_thresholds_mean, 2*best_thresholds_std))"
   ]
  },
  {
   "cell_type": "markdown",
   "metadata": {},
   "source": [
    "So, to maximize the profit we would need to set a threshold around 0.23, which correspond to an acceptance arte of approximately 64%. This model with these threshold ensures to have a bad rate of about 2% with a profit percentage between 3.6% to 4.8%. "
   ]
  },
  {
   "cell_type": "markdown",
   "metadata": {},
   "source": [
    "## Model performance in unseen data"
   ]
  },
  {
   "cell_type": "markdown",
   "metadata": {},
   "source": [
    "Let's finally evaluate our chosen model in the so far unseen test data. We first train it in the whole train dataset and predict the probbilities for the test set."
   ]
  },
  {
   "cell_type": "code",
   "execution_count": 238,
   "metadata": {},
   "outputs": [
    {
     "data": {
      "image/png": "[encoded data removed]",
      "text/plain": [
       "<Figure size 720x360 with 1 Axes>"
      ]
     },
     "metadata": {
      "needs_background": "light"
     },
     "output_type": "display_data"
    }
   ],
   "source": [
    "# Instantiate the model and train it with X_train and y_train\n",
    "final_model=xgb_tuned_model.fit(X_train, y_train)\n",
    "\n",
    "# Predict probabilities on the test data.\n",
    "y_pred_proba=final_model.predict_proba(X_test)[:,1]\n",
    "\n",
    "# Plot the distribution of probabilities\n",
    "plt.hist(y_pred_proba, bins=30)\n",
    "plt.xlabel('Predicted probability', fontsize=14)\n",
    "plt.vlines(best_thresholds_mean, ymin=0, ymax=2500, color='red', linestyle='--', lw=3)\n",
    "plt.text(best_thresholds_mean+0.01, 2000, 'threshold = {}'.format(round(best_thresholds_mean,3)), fontsize=14)\n",
    "plt.xticks(fontsize=14)\n",
    "plt.yticks(fontsize=14)\n",
    "plt.title('Predicted probabilities distribution', fontsize=15)\n",
    "plt.show()"
   ]
  },
  {
   "cell_type": "markdown",
   "metadata": {},
   "source": [
    "In this plot we see the ditribution of the predicted probabilities of the test set along with a dashed red line signaling the position of the threshold that discriminate between non default and default loans. Let'suse this threshold to compute the acceptance rate, bad rate and profit percentage."
   ]
  },
  {
   "cell_type": "code",
   "execution_count": 239,
   "metadata": {},
   "outputs": [
    {
     "name": "stdout",
     "output_type": "stream",
     "text": [
      "Results on the test set\n",
      "------------------------\n",
      "Acceptance rate: 0.647\n",
      "Bad rate: 0.0388\n",
      "Profit percentage: 3.8368%\n"
     ]
    }
   ],
   "source": [
    "# Predict the classes given the selected threshold\n",
    "y_pred_test=np.where(y_pred_proba>best_thresholds_mean, 1, 0)\n",
    "\n",
    "# Add the colums for true default and predicted default to the train_test dataframe\n",
    "test_df = X_test.assign(true_default=y_test, predicted_default=y_pred_test)\n",
    "\n",
    "# Select the accepted default loans and accepted nondefault loans records\n",
    "test_df_accepted_default = test_df[(test_df['predicted_default']==0) & (test_df['true_default']==1)]\n",
    "test_df_accepted_nondefault = test_df[(test_df['predicted_default']==0) & (test_df['true_default']==0)]\n",
    "\n",
    "\n",
    "# Compute the acceptance rate, bad rate and profit percentage\n",
    "accept_rate = test_df[test_df['predicted_default']==0].shape[0]/test_df.shape[0]\n",
    "\n",
    "bad_rate = test_df_accepted_default.shape[0]/test_df[test_df['predicted_default']==0].shape[0]\n",
    "\n",
    "profit = (test_df_accepted_nondefault['loan_amnt']*test_df_accepted_nondefault['loan_int_rate']/100).sum() - \\\n",
    "        (test_df_accepted_default['loan_amnt']).sum()\n",
    "profit_percentage = 100*profit/test_df['loan_amnt'].sum()\n",
    "\n",
    "print('Results on the test set')\n",
    "print('------------------------')\n",
    "print('Acceptance rate: {:.3f}'.format(accept_rate))\n",
    "print('Bad rate: {:.4f}'.format(bad_rate))\n",
    "print('Profit percentage: {:.4f}%'.format(profit_percentage))"
   ]
  },
  {
   "cell_type": "markdown",
   "metadata": {},
   "source": [
    "We see that the model suggests to accept $64\\%$ of the loans requirements. If we follow the model recommendation we would have a profit of $3.8\\%$, which is in accordance with the estimated profit percentage interval of $[3.6 \\%, 4.8\\%]$"
   ]
  },
  {
   "cell_type": "markdown",
   "metadata": {},
   "source": [
    "Additionally, let's plot the confusion matrix and show some scores for this classification."
   ]
  },
  {
   "cell_type": "code",
   "execution_count": 245,
   "metadata": {},
   "outputs": [
    {
     "data": {
      "image/png": "[encoded data removed]",
      "text/plain": [
       "<Figure size 720x360 with 2 Axes>"
      ]
     },
     "metadata": {
      "needs_background": "light"
     },
     "output_type": "display_data"
    }
   ],
   "source": [
    "from sklearn.metrics import ConfusionMatrixDisplay\n",
    "\n",
    "ConfusionMatrixDisplay.from_predictions(y_test, y_pred_test)\n",
    "plt.xlabel('Predicted label',fontsize=14)\n",
    "plt.ylabel('True label',fontsize=14)\n",
    "plt.xticks(fontsize=14)\n",
    "plt.yticks(fontsize=14)\n",
    "plt.show()"
   ]
  },
  {
   "cell_type": "code",
   "execution_count": 301,
   "metadata": {},
   "outputs": [
    {
     "name": "stdout",
     "output_type": "stream",
     "text": [
      "              precision    recall  f1-score   support\n",
      "\n",
      "           0       0.96      0.80      0.87      4599\n",
      "           1       0.55      0.89      0.68      1293\n",
      "\n",
      "    accuracy                           0.82      5892\n",
      "   macro avg       0.76      0.84      0.77      5892\n",
      "weighted avg       0.87      0.82      0.83      5892\n",
      "\n"
     ]
    }
   ],
   "source": [
    "from sklearn.metrics import precision_recall_fscore_support, classification_report\n",
    "print(classification_report(y_test, y_pred_test))"
   ]
  },
  {
   "cell_type": "markdown",
   "metadata": {},
   "source": [
    "A profit percentage of $3.8\\%$ is good but let's see how it compares with the optimal profit percentage(the best maximum profit we could get if we would have known previously what is the best threshold).Let's build the strategy table."
   ]
  },
  {
   "cell_type": "code",
   "execution_count": 228,
   "metadata": {},
   "outputs": [
    {
     "data": {
      "text/html": [
       "<div>\n",
       "<style scoped>\n",
       "    .dataframe tbody tr th:only-of-type {\n",
       "        vertical-align: middle;\n",
       "    }\n",
       "\n",
       "    .dataframe tbody tr th {\n",
       "        vertical-align: top;\n",
       "    }\n",
       "\n",
       "    .dataframe thead th {\n",
       "        text-align: right;\n",
       "    }\n",
       "</style>\n",
       "<table border=\"1\" class=\"dataframe\">\n",
       "  <thead>\n",
       "    <tr style=\"text-align: right;\">\n",
       "      <th></th>\n",
       "      <th>index</th>\n",
       "      <th>Acceptance rate</th>\n",
       "      <th>Threshold</th>\n",
       "      <th>Bad rate</th>\n",
       "      <th>Accepted loans</th>\n",
       "      <th>Average loan amount</th>\n",
       "      <th>Profit</th>\n",
       "      <th>Profit percentage</th>\n",
       "    </tr>\n",
       "  </thead>\n",
       "  <tbody>\n",
       "    <tr>\n",
       "      <th>0</th>\n",
       "      <td>14</td>\n",
       "      <td>1.00</td>\n",
       "      <td>1.000000</td>\n",
       "      <td>0.219450</td>\n",
       "      <td>5892</td>\n",
       "      <td>9674.31687</td>\n",
       "      <td>-9.372599e+06</td>\n",
       "      <td>-16.442847</td>\n",
       "    </tr>\n",
       "    <tr>\n",
       "      <th>1</th>\n",
       "      <td>13</td>\n",
       "      <td>0.95</td>\n",
       "      <td>0.999818</td>\n",
       "      <td>0.169552</td>\n",
       "      <td>5598</td>\n",
       "      <td>9674.31687</td>\n",
       "      <td>-5.826624e+06</td>\n",
       "      <td>-10.221955</td>\n",
       "    </tr>\n",
       "    <tr>\n",
       "      <th>2</th>\n",
       "      <td>12</td>\n",
       "      <td>0.90</td>\n",
       "      <td>0.997610</td>\n",
       "      <td>0.119823</td>\n",
       "      <td>5302</td>\n",
       "      <td>9674.31687</td>\n",
       "      <td>-2.479332e+06</td>\n",
       "      <td>-4.349622</td>\n",
       "    </tr>\n",
       "    <tr>\n",
       "      <th>3</th>\n",
       "      <td>11</td>\n",
       "      <td>0.85</td>\n",
       "      <td>0.965681</td>\n",
       "      <td>0.075526</td>\n",
       "      <td>5008</td>\n",
       "      <td>9674.31687</td>\n",
       "      <td>3.032556e+05</td>\n",
       "      <td>0.532017</td>\n",
       "    </tr>\n",
       "    <tr>\n",
       "      <th>4</th>\n",
       "      <td>10</td>\n",
       "      <td>0.80</td>\n",
       "      <td>0.797950</td>\n",
       "      <td>0.053632</td>\n",
       "      <td>4713</td>\n",
       "      <td>9674.31687</td>\n",
       "      <td>1.509663e+06</td>\n",
       "      <td>2.648481</td>\n",
       "    </tr>\n",
       "    <tr>\n",
       "      <th>5</th>\n",
       "      <td>9</td>\n",
       "      <td>0.75</td>\n",
       "      <td>0.545861</td>\n",
       "      <td>0.041242</td>\n",
       "      <td>4419</td>\n",
       "      <td>9674.31687</td>\n",
       "      <td>1.926338e+06</td>\n",
       "      <td>3.379476</td>\n",
       "    </tr>\n",
       "    <tr>\n",
       "      <th>6</th>\n",
       "      <td>8</td>\n",
       "      <td>0.70</td>\n",
       "      <td>0.374663</td>\n",
       "      <td>0.031229</td>\n",
       "      <td>4124</td>\n",
       "      <td>9674.31687</td>\n",
       "      <td>2.192575e+06</td>\n",
       "      <td>3.846551</td>\n",
       "    </tr>\n",
       "    <tr>\n",
       "      <th>7</th>\n",
       "      <td>7</td>\n",
       "      <td>0.65</td>\n",
       "      <td>0.238500</td>\n",
       "      <td>0.025798</td>\n",
       "      <td>3830</td>\n",
       "      <td>9674.31687</td>\n",
       "      <td>2.180878e+06</td>\n",
       "      <td>3.826029</td>\n",
       "    </tr>\n",
       "    <tr>\n",
       "      <th>8</th>\n",
       "      <td>6</td>\n",
       "      <td>0.60</td>\n",
       "      <td>0.158327</td>\n",
       "      <td>0.020706</td>\n",
       "      <td>3535</td>\n",
       "      <td>9674.31687</td>\n",
       "      <td>2.113327e+06</td>\n",
       "      <td>3.707522</td>\n",
       "    </tr>\n",
       "    <tr>\n",
       "      <th>9</th>\n",
       "      <td>5</td>\n",
       "      <td>0.55</td>\n",
       "      <td>0.108233</td>\n",
       "      <td>0.015614</td>\n",
       "      <td>3241</td>\n",
       "      <td>9674.31687</td>\n",
       "      <td>2.116763e+06</td>\n",
       "      <td>3.713550</td>\n",
       "    </tr>\n",
       "    <tr>\n",
       "      <th>10</th>\n",
       "      <td>4</td>\n",
       "      <td>0.50</td>\n",
       "      <td>0.073830</td>\n",
       "      <td>0.010692</td>\n",
       "      <td>2946</td>\n",
       "      <td>9674.31687</td>\n",
       "      <td>2.125144e+06</td>\n",
       "      <td>3.728252</td>\n",
       "    </tr>\n",
       "    <tr>\n",
       "      <th>11</th>\n",
       "      <td>3</td>\n",
       "      <td>0.45</td>\n",
       "      <td>0.050981</td>\n",
       "      <td>0.007637</td>\n",
       "      <td>2651</td>\n",
       "      <td>9674.31687</td>\n",
       "      <td>2.001145e+06</td>\n",
       "      <td>3.510715</td>\n",
       "    </tr>\n",
       "    <tr>\n",
       "      <th>12</th>\n",
       "      <td>2</td>\n",
       "      <td>0.40</td>\n",
       "      <td>0.033278</td>\n",
       "      <td>0.005940</td>\n",
       "      <td>2357</td>\n",
       "      <td>9674.31687</td>\n",
       "      <td>1.783930e+06</td>\n",
       "      <td>3.129643</td>\n",
       "    </tr>\n",
       "    <tr>\n",
       "      <th>13</th>\n",
       "      <td>1</td>\n",
       "      <td>0.35</td>\n",
       "      <td>0.021997</td>\n",
       "      <td>0.003904</td>\n",
       "      <td>2062</td>\n",
       "      <td>9674.31687</td>\n",
       "      <td>1.604023e+06</td>\n",
       "      <td>2.814022</td>\n",
       "    </tr>\n",
       "    <tr>\n",
       "      <th>14</th>\n",
       "      <td>0</td>\n",
       "      <td>0.30</td>\n",
       "      <td>0.013554</td>\n",
       "      <td>0.002546</td>\n",
       "      <td>1768</td>\n",
       "      <td>9674.31687</td>\n",
       "      <td>1.416167e+06</td>\n",
       "      <td>2.484457</td>\n",
       "    </tr>\n",
       "  </tbody>\n",
       "</table>\n",
       "</div>"
      ],
      "text/plain": [
       "    index  Acceptance rate  Threshold  Bad rate  Accepted loans  \\\n",
       "0      14             1.00   1.000000  0.219450            5892   \n",
       "1      13             0.95   0.999818  0.169552            5598   \n",
       "2      12             0.90   0.997610  0.119823            5302   \n",
       "3      11             0.85   0.965681  0.075526            5008   \n",
       "4      10             0.80   0.797950  0.053632            4713   \n",
       "5       9             0.75   0.545861  0.041242            4419   \n",
       "6       8             0.70   0.374663  0.031229            4124   \n",
       "7       7             0.65   0.238500  0.025798            3830   \n",
       "8       6             0.60   0.158327  0.020706            3535   \n",
       "9       5             0.55   0.108233  0.015614            3241   \n",
       "10      4             0.50   0.073830  0.010692            2946   \n",
       "11      3             0.45   0.050981  0.007637            2651   \n",
       "12      2             0.40   0.033278  0.005940            2357   \n",
       "13      1             0.35   0.021997  0.003904            2062   \n",
       "14      0             0.30   0.013554  0.002546            1768   \n",
       "\n",
       "    Average loan amount        Profit  Profit percentage  \n",
       "0            9674.31687 -9.372599e+06         -16.442847  \n",
       "1            9674.31687 -5.826624e+06         -10.221955  \n",
       "2            9674.31687 -2.479332e+06          -4.349622  \n",
       "3            9674.31687  3.032556e+05           0.532017  \n",
       "4            9674.31687  1.509663e+06           2.648481  \n",
       "5            9674.31687  1.926338e+06           3.379476  \n",
       "6            9674.31687  2.192575e+06           3.846551  \n",
       "7            9674.31687  2.180878e+06           3.826029  \n",
       "8            9674.31687  2.113327e+06           3.707522  \n",
       "9            9674.31687  2.116763e+06           3.713550  \n",
       "10           9674.31687  2.125144e+06           3.728252  \n",
       "11           9674.31687  2.001145e+06           3.510715  \n",
       "12           9674.31687  1.783930e+06           3.129643  \n",
       "13           9674.31687  1.604023e+06           2.814022  \n",
       "14           9674.31687  1.416167e+06           2.484457  "
      ]
     },
     "execution_count": 228,
     "metadata": {},
     "output_type": "execute_result"
    }
   ],
   "source": [
    "strategy_table(X_test, y_test, y_pred_proba=y_pred_proba, acceptance_rates=np.arange(0.3,1.05,0.05))"
   ]
  },
  {
   "cell_type": "markdown",
   "metadata": {},
   "source": [
    "We see that the optimal profit percentage we could obtain is around $3.847\\%$ if we would have chosen a threshold of $0.37$ with an acceptance rate of $0.7$. This profit is very near to the profit we obtain with our model threshold. **We were off only by $\\bf{0.0097}\\%$ to hit the maximum profit!!**"
   ]
  },
  {
   "cell_type": "markdown",
   "metadata": {},
   "source": [
    "## Saving the final model"
   ]
  },
  {
   "cell_type": "markdown",
   "metadata": {},
   "source": [
    "We save the model to be used in production later on"
   ]
  },
  {
   "cell_type": "code",
   "execution_count": 303,
   "metadata": {},
   "outputs": [],
   "source": [
    "import pickle\n",
    "\n",
    "# save the model to disk\n",
    "filename = '../deploy/final_model.sav'\n",
    "pickle.dump(final_model, open(filename, 'wb'))"
   ]
  },
  {
   "cell_type": "markdown",
   "metadata": {},
   "source": [
    "## Summary"
   ]
  },
  {
   "cell_type": "markdown",
   "metadata": {},
   "source": [
    "- A model of credit risk was build in order to maximize the portfolio profits from an imbalanced dataset.\n",
    "- Two scores were used to select the best model: F2 and ROC AUC (in that order).\n",
    "- A first model discrimination was performed by estimating the scores of several models without any hyperparameter tuning. This was done for two cases: for data without a resampling technique and for the same data with an oversampling technique. Additionaly, a performance estimation was done for the XGBoost classifier with different resampling techniques. After this, three models were selected for further exploration (XGBoostClassifier, GradientBoostingClassifier and RandomForestClassifier). We also selected the Random Undersampling technique as the best resampling technique.\n",
    "- A hyperparameter tuning was performed for the three classifiers and the XGBoostClassifier with customized hyperparameters was chosen as the best one.\n",
    "- A threshold for this selected model was chosen to maximize the profit percentage.\n",
    "- Finally, the selected model was evaluated with the test set and it was seen that its performace it is accordance with the performace estimation of the model. The true profit percentage obtained was very satisfying whe compared with the optimal profit percentage."
   ]
  },
  {
   "cell_type": "markdown",
   "metadata": {},
   "source": [
    "## Conclusions"
   ]
  },
  {
   "cell_type": "markdown",
   "metadata": {},
   "source": [
    "We obtain that performing a random undersampling technique to the imbalanced data of credit risk, using it to train a XGBoost Classifier with learning_rate=0.2 and n_estimators=600 and setting a threshold of 0.23 is the best strategy to maximize profits in a credit risk portfolio.\n",
    "\n",
    "The model ensures a profit percentage of $4.213\\% \\pm 0.571\\%$."
   ]
  },
  {
   "cell_type": "code",
   "execution_count": null,
   "metadata": {},
   "outputs": [],
   "source": []
  }
 ],
 "metadata": {
  "kernelspec": {
   "display_name": "Python 3 (ipykernel)",
   "language": "python",
   "name": "python3"
  },
  "language_info": {
   "codemirror_mode": {
    "name": "ipython",
    "version": 3
   },
   "file_extension": ".py",
   "mimetype": "text/x-python",
   "name": "python",
   "nbconvert_exporter": "python",
   "pygments_lexer": "ipython3",
   "version": "3.7.6"
  }
 },
 "nbformat": 4,
 "nbformat_minor": 4
}
